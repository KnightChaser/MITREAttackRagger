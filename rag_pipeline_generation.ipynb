{
 "cells": [
  {
   "cell_type": "code",
   "execution_count": 1,
   "metadata": {},
   "outputs": [
    {
     "name": "stdout",
     "output_type": "stream",
     "text": [
      "OpenAI API key => ########################################################\n",
      "Langchain API Key => ###################################################\n",
      "Langchain project name => ex_cti_rag_mitre_002\n",
      "Langchain endpoint => https://api.smith.langchain.com\n",
      "Langchain tracking => true\n",
      "OpenSearch HOST => 15.165.123.179\n",
      "OpenSearch PORT => 9200\n",
      "OpenSearch index name => ex_cti_rag_mitre_002\n",
      "OpenSearch account ID => admin\n",
      "OpenSearch account password => ###################\n"
     ]
    }
   ],
   "source": [
    "# Get the environment variables\n",
    "from dotenv import load_dotenv\n",
    "import os\n",
    "\n",
    "load_dotenv()\n",
    "print(f\"OpenAI API key => {len(os.getenv('OPENAI_API_KEY')) * '#'}\")\n",
    "print(f\"Langchain API Key => {len(os.getenv('LANGCHAIN_API_KEY')) * '#'}\")\n",
    "print(f\"Langchain project name => {os.getenv('LANGCHAIN_PROJECT_NAME')}\")\n",
    "print(f\"Langchain endpoint => {os.getenv('LANGCHAIN_ENDPOINT')}\")\n",
    "print(f\"Langchain tracking => {os.getenv('LANGCHAIN_TRACING_V2')}\")\n",
    "\n",
    "print(f\"OpenSearch HOST => {os.getenv('OPENSEARCH_HOST')}\")\n",
    "print(f\"OpenSearch PORT => {os.getenv('OPENSEARCH_PORT')}\")\n",
    "print(f\"OpenSearch index name => {os.getenv('OPENSEARCH_INDEX_NAME')}\")\n",
    "print(f\"OpenSearch account ID => {os.getenv('OPENSEARCH_ACCOUNT_ID')}\")\n",
    "print(f\"OpenSearch account password => {len(os.getenv('OPENSEARCH_ACCOUNT_PASSWORD')) * '#'}\")"
   ]
  },
  {
   "cell_type": "code",
   "execution_count": 2,
   "metadata": {},
   "outputs": [],
   "source": [
    "# Start Langsmith tracking\n",
    "from langsmith import traceable\n",
    "from langchain.callbacks.tracers import LangChainTracer\n",
    "from langchain.callbacks.manager import CallbackManager\n",
    "\n",
    "tracer = LangChainTracer(\n",
    "    project_name=os.getenv('LANGCHAIN_PROJECT_NAME'),\n",
    ")\n",
    "callback_manager = CallbackManager([tracer])\n",
    "\n",
    "# Wrap OpenAI functions\n",
    "from langchain_openai import OpenAI\n",
    "openai_llm = OpenAI(temperature=0, callback_manager=callback_manager)"
   ]
  },
  {
   "cell_type": "code",
   "execution_count": 10,
   "metadata": {},
   "outputs": [
    {
     "name": "stderr",
     "output_type": "stream",
     "text": [
      "100%|██████████| 152/152 [01:43<00:00,  1.47it/s]\n"
     ]
    }
   ],
   "source": [
    "# Import necessary libraries\n",
    "from MITREAttackScrapper.cti.groups import MITREAttackCTIGroups\n",
    "from langchain_core.documents import Document\n",
    "from typing import List, Dict\n",
    "from tqdm import tqdm\n",
    "\n",
    "# Initialize an empty list to store documents\n",
    "documents: List[Document] = []\n",
    "\n",
    "# Get the list of MITRE ATT&CK Group IDs\n",
    "attack_group_id_list: List[str] = [attack_group['id'] for attack_group in MITREAttackCTIGroups.get_list()]\n",
    "\n",
    "# Iterate over a subset of the attack group IDs to fetch detailed information\n",
    "for attack_group_id in tqdm(attack_group_id_list):\n",
    "    attack_group_detail = MITREAttackCTIGroups.get(attack_group_id)\n",
    "    \n",
    "    # Extract the details of the threat group\n",
    "    attack_group_id: str                                    = attack_group_detail['id']\n",
    "    attack_group_name: str                                  = attack_group_detail['name']\n",
    "    attack_group_description: str                           = attack_group_detail['description']\n",
    "    attack_group_contributors: List[str]                    = attack_group_detail.get('contributors', [])\n",
    "    attack_group_version: str                               = attack_group_detail.get('version', 'N/A')\n",
    "    attack_group_created: str                               = attack_group_detail.get('created', 'N/A')\n",
    "    attack_group_last_modified: str                         = attack_group_detail.get('last_modified', 'N/A')\n",
    "    attack_group_url: str                                   = attack_group_detail['url']\n",
    "    attack_group_associated_groups: List[Dict[str, str]]    = attack_group_detail.get('associated_group_descriptions', [])\n",
    "    attack_group_techniques: List[Dict[str, str]]           = attack_group_detail.get('techniques_used', [])\n",
    "    attack_group_softwares: List[Dict[str, str]]            = attack_group_detail.get('software', [])\n",
    "    attack_group_references: Dict[int, Dict[str, str]]      = attack_group_detail.get('references', {})\n",
    "\n",
    "    # Create a description related to the threat group\n",
    "    description = f\"{attack_group_name} (MITRE ATT&CK Group ID: {attack_group_id}) is a threat group that {attack_group_description}.\\n\"\n",
    "    \n",
    "    # Add contributors\n",
    "    if attack_group_contributors:\n",
    "        description += f\"\\nContributors: {', '.join(attack_group_contributors)}\\n\"\n",
    "    \n",
    "    # Add creation and modification dates\n",
    "    description += f\"\\nVersion: {attack_group_version}\\nCreated: {attack_group_created}\\nLast Modified: {attack_group_last_modified}\\n\"\n",
    "    \n",
    "    # Add associated groups\n",
    "    if attack_group_associated_groups:\n",
    "        description += \"\\nAssociated Groups:\\n\"\n",
    "        for assoc_group in attack_group_associated_groups:\n",
    "            description += f\"- {assoc_group['name']}: {assoc_group['description']}\\n\"\n",
    "    else:\n",
    "        description += \"\\nAssociated Groups: None\\n\"\n",
    "    \n",
    "    # Add techniques used\n",
    "    if attack_group_techniques:\n",
    "        description += \"\\nTechniques Used:\\n\"\n",
    "        for technique in attack_group_techniques:\n",
    "            description += (\n",
    "                f\"- {technique['main_technique_name']} (ID: {technique['main_technique_id']}): \"\n",
    "                f\"{technique['use']} (URL: {technique['main_technique_url']})\\n\"\n",
    "            )\n",
    "            if 'sub_technique_id' in technique and 'sub_technique_name' in technique:\n",
    "                description += (\n",
    "                    f\"  - Sub-Technique: {technique['sub_technique_name']} (ID: {technique['sub_technique_id']}) \"\n",
    "                    f\"(URL: {technique['sub_technique_url']})\\n\"\n",
    "                )\n",
    "    else:\n",
    "        description += \"\\nTechniques Used: None\\n\"\n",
    "    \n",
    "    # Add software used\n",
    "    if attack_group_softwares:\n",
    "        description += \"\\nSoftware Used:\\n\"\n",
    "        for software in attack_group_softwares:\n",
    "            description += f\"- {software['name']} (ID: {software['id']}): {', '.join(software['references'])} (URL: {software['url']})\\n\"\n",
    "            if 'techniques' in software:\n",
    "                for technique in software['techniques']:\n",
    "                    description += f\"  - Associated Technique: {technique['name']} (URL: {technique['url']})\\n\"\n",
    "    else:\n",
    "        description += \"\\nSoftware Used: None\\n\"\n",
    "\n",
    "    # Add references\n",
    "    if attack_group_references:\n",
    "        description += \"\\nReferences:\\n\"\n",
    "        for ref_id, ref_detail in attack_group_references.items():\n",
    "            description += f\"[{ref_id}] {ref_detail['text']} (URL: {ref_detail['url']})\\n\"\n",
    "    else:\n",
    "        description += \"\\nReferences: None\\n\"\n",
    "    \n",
    "    # Create a document and add it to the list\n",
    "    document = Document(page_content=description, \n",
    "                        metadata={\"id\": attack_group_id, \n",
    "                                  \"name\": attack_group_name,\n",
    "                                  \"url\": attack_group_url,\n",
    "                                  \"reference\": attack_group_references})\n",
    "    documents.append(document)\n",
    "\n",
    "# The 'documents' list now contains the detailed documents for each MITRE ATT&CK group"
   ]
  },
  {
   "cell_type": "code",
   "execution_count": 3,
   "metadata": {},
   "outputs": [
    {
     "name": "stdout",
     "output_type": "stream",
     "text": [
      "hi\n"
     ]
    }
   ],
   "source": []
  },
  {
   "cell_type": "code",
   "execution_count": null,
   "metadata": {},
   "outputs": [],
   "source": []
  }
 ],
 "metadata": {
  "kernelspec": {
   "display_name": "venv",
   "language": "python",
   "name": "python3"
  },
  "language_info": {
   "codemirror_mode": {
    "name": "ipython",
    "version": 3
   },
   "file_extension": ".py",
   "mimetype": "text/x-python",
   "name": "python",
   "nbconvert_exporter": "python",
   "pygments_lexer": "ipython3",
   "version": "3.12.3"
  }
 },
 "nbformat": 4,
 "nbformat_minor": 2
}
