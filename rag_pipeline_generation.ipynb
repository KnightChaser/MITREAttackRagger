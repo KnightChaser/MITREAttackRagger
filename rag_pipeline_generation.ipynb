{
 "cells": [
  {
   "cell_type": "code",
   "execution_count": 1,
   "metadata": {},
   "outputs": [
    {
     "name": "stdout",
     "output_type": "stream",
     "text": [
      "OpenAI API key => ########################################################\n",
      "Langchain API Key => ###################################################\n",
      "Langchain project name => ex_cti_rag_mitre_002\n",
      "Langchain endpoint => https://api.smith.langchain.com\n",
      "Langchain tracking => true\n",
      "OpenSearch HOST => 15.165.123.179\n",
      "OpenSearch PORT => 9200\n",
      "OpenSearch index name => ex_cti_rag_mitre_002\n",
      "OpenSearch account ID => admin\n",
      "OpenSearch account password => ###################\n"
     ]
    }
   ],
   "source": [
    "# Get the environment variables\n",
    "from dotenv import load_dotenv\n",
    "import os\n",
    "\n",
    "load_dotenv()\n",
    "print(f\"OpenAI API key => {len(os.getenv('OPENAI_API_KEY')) * '#'}\")\n",
    "print(f\"Langchain API Key => {len(os.getenv('LANGCHAIN_API_KEY')) * '#'}\")\n",
    "print(f\"Langchain project name => {os.getenv('LANGCHAIN_PROJECT_NAME')}\")\n",
    "print(f\"Langchain endpoint => {os.getenv('LANGCHAIN_ENDPOINT')}\")\n",
    "print(f\"Langchain tracking => {os.getenv('LANGCHAIN_TRACING_V2')}\")\n",
    "\n",
    "print(f\"OpenSearch HOST => {os.getenv('OPENSEARCH_HOST')}\")\n",
    "print(f\"OpenSearch PORT => {os.getenv('OPENSEARCH_PORT')}\")\n",
    "print(f\"OpenSearch index name => {os.getenv('OPENSEARCH_INDEX_NAME')}\")\n",
    "print(f\"OpenSearch account ID => {os.getenv('OPENSEARCH_ACCOUNT_ID')}\")\n",
    "print(f\"OpenSearch account password => {len(os.getenv('OPENSEARCH_ACCOUNT_PASSWORD')) * '#'}\")"
   ]
  },
  {
   "cell_type": "code",
   "execution_count": null,
   "metadata": {},
   "outputs": [],
   "source": [
    "# Start Langsmith tracking\n",
    "from langsmith import traceable\n",
    "from langchain.callbacks.tracers import LangChainTracer\n",
    "from langchain.callbacks.manager import CallbackManager\n",
    "\n",
    "tracer = LangChainTracer(\n",
    "    project_name=os.getenv('LANGCHAIN_PROJECT_NAME'),\n",
    ")\n",
    "callback_manager = CallbackManager([tracer])\n",
    "\n",
    "# Wrap OpenAI functions\n",
    "from langchain_openai import OpenAI\n",
    "openai_llm = OpenAI(temperature=0, callback_manager=callback_manager)"
   ]
  }
 ],
 "metadata": {
  "kernelspec": {
   "display_name": "venv",
   "language": "python",
   "name": "python3"
  },
  "language_info": {
   "codemirror_mode": {
    "name": "ipython",
    "version": 3
   },
   "file_extension": ".py",
   "mimetype": "text/x-python",
   "name": "python",
   "nbconvert_exporter": "python",
   "pygments_lexer": "ipython3",
   "version": "3.12.3"
  }
 },
 "nbformat": 4,
 "nbformat_minor": 2
}
